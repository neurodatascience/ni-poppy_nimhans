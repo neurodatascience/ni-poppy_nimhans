{
 "cells": [
  {
   "cell_type": "markdown",
   "metadata": {},
   "source": [
    "## Code to analyze FS output\n",
    "\n",
    "1. DKT CT distributions \n",
    "2. ASEG vol distribution\n"
   ]
  },
  {
   "cell_type": "code",
   "execution_count": 1,
   "metadata": {},
   "outputs": [],
   "source": [
    "import pandas as pd\n",
    "import numpy as np\n",
    "import scipy.stats\n",
    "import matplotlib.pyplot as plt\n",
    "import seaborn as sns\n",
    "import numpy as np\n",
    "import nibabel as nib\n"
   ]
  },
  {
   "cell_type": "code",
   "execution_count": 2,
   "metadata": {},
   "outputs": [],
   "source": [
    "ds_name = \"METAL\"\n",
    "\n",
    "data_dir = f\"/home/nikhil/projects/Parkinsons/nimhans/data/PD_{ds_name}/\"  \n",
    "session = \"ses-01\"\n",
    "tabular_dir = f\"{data_dir}/tabular/\"\n",
    "\n",
    "# manifest\n",
    "manifest_csv = f\"{tabular_dir}/manifest.csv\"\n",
    "\n",
    "# demographics\n",
    "demographics_csv = f\"{tabular_dir}/demographics/demographics.csv\"\n",
    "\n",
    "# id_mapping\n",
    "id_mapping_csv = f\"{data_dir}/scratch/participant_id_bids_id_map.csv\"\n",
    "\n",
    "# imaging derivatives\n",
    "FS_dir = f\"{data_dir}/derivatives/freesurfer/v7.3.2/\"\n",
    "FS_DKT_dir = f\"{FS_dir}/extractions/{session}/\"\n",
    "\n",
    "DKT_csv = f\"{FS_DKT_dir}/aparc.csv\"\n",
    "ASEG_csv = f\"{FS_DKT_dir}/aseg.csv\"\n",
    "\n",
    "# UKB encoding of FS fields (DKT + asg)\n",
    "region_field_dir = \"../region_field_ids\"\n",
    "ukbb_dkt_ct_fields = f\"{region_field_dir}/UKBB_DKT_CT_Fields.csv\"\n",
    "ukbb_aseg_vol_fields = f\"{region_field_dir}/UKBB_ASEG_vol_Fields.csv\"\n",
    "\n",
    "# save dirs\n",
    "analysis_dir = f\"/home/nikhil/projects/Parkinsons/neuro_arch/analysis\" \n",
    "agg_data_dir = f\"{analysis_dir}/derived_data/nimhans_{ds_name.lower()}\"\n",
    "\n",
    "results_dir = f\"{agg_data_dir}/agg_dfs/\"\n",
    "figs_dir = f\"{agg_data_dir}/figs/\""
   ]
  },
  {
   "cell_type": "markdown",
   "metadata": {},
   "source": [
    "### Colormaps"
   ]
  },
  {
   "cell_type": "code",
   "execution_count": 3,
   "metadata": {},
   "outputs": [
    {
     "data": {
      "image/png": "[encoded data removed]",
      "text/plain": [
       "<Figure size 200x100 with 1 Axes>"
      ]
     },
     "metadata": {},
     "output_type": "display_data"
    }
   ],
   "source": [
    "from enum import Enum\n",
    "class my_colors(Enum):\n",
    "    CONTROL = \"#636363\"\n",
    "    PD = \"#1c9099\"\n",
    "    \n",
    "color_list = [my_colors.PD.value, my_colors.CONTROL.value,]\n",
    "palette = sns.color_palette(palette=color_list) #sns.husl_palette()\n",
    "\n",
    "sns.palplot(palette)"
   ]
  },
  {
   "attachments": {},
   "cell_type": "markdown",
   "metadata": {},
   "source": [
    "### manifest"
   ]
  },
  {
   "cell_type": "code",
   "execution_count": 4,
   "metadata": {},
   "outputs": [
    {
     "name": "stdout",
     "output_type": "stream",
     "text": [
      "manifest participants: 132\n"
     ]
    },
    {
     "data": {
      "text/html": [
       "<div>\n",
       "<style scoped>\n",
       "    .dataframe tbody tr th:only-of-type {\n",
       "        vertical-align: middle;\n",
       "    }\n",
       "\n",
       "    .dataframe tbody tr th {\n",
       "        vertical-align: top;\n",
       "    }\n",
       "\n",
       "    .dataframe thead th {\n",
       "        text-align: right;\n",
       "    }\n",
       "</style>\n",
       "<table border=\"1\" class=\"dataframe\">\n",
       "  <thead>\n",
       "    <tr style=\"text-align: right;\">\n",
       "      <th></th>\n",
       "      <th>participant_id</th>\n",
       "      <th>visit</th>\n",
       "      <th>session</th>\n",
       "    </tr>\n",
       "  </thead>\n",
       "  <tbody>\n",
       "    <tr>\n",
       "      <th>0</th>\n",
       "      <td>MPD_HC_T1_01</td>\n",
       "      <td>V01</td>\n",
       "      <td>ses-01</td>\n",
       "    </tr>\n",
       "    <tr>\n",
       "      <th>1</th>\n",
       "      <td>MPD_HC_T1_02</td>\n",
       "      <td>V01</td>\n",
       "      <td>ses-01</td>\n",
       "    </tr>\n",
       "    <tr>\n",
       "      <th>2</th>\n",
       "      <td>MPD_HC_T1_03</td>\n",
       "      <td>V01</td>\n",
       "      <td>ses-01</td>\n",
       "    </tr>\n",
       "    <tr>\n",
       "      <th>3</th>\n",
       "      <td>MPD_HC_T1_04</td>\n",
       "      <td>V01</td>\n",
       "      <td>ses-01</td>\n",
       "    </tr>\n",
       "    <tr>\n",
       "      <th>4</th>\n",
       "      <td>MPD_HC_T1_05</td>\n",
       "      <td>V01</td>\n",
       "      <td>ses-01</td>\n",
       "    </tr>\n",
       "  </tbody>\n",
       "</table>\n",
       "</div>"
      ],
      "text/plain": [
       "  participant_id visit session\n",
       "0   MPD_HC_T1_01   V01  ses-01\n",
       "1   MPD_HC_T1_02   V01  ses-01\n",
       "2   MPD_HC_T1_03   V01  ses-01\n",
       "3   MPD_HC_T1_04   V01  ses-01\n",
       "4   MPD_HC_T1_05   V01  ses-01"
      ]
     },
     "execution_count": 4,
     "metadata": {},
     "output_type": "execute_result"
    }
   ],
   "source": [
    "manifest_cols = [\"participant_id\", \"visit\", \"session\"]\n",
    "\n",
    "manifest_df = pd.read_csv(manifest_csv)\n",
    "manifest_df = manifest_df[manifest_cols]\n",
    "\n",
    "manifest_participants = manifest_df[\"participant_id\"].unique()\n",
    "n_manifest_participants = len(manifest_participants)\n",
    "print(f\"manifest participants: {n_manifest_participants}\")\n",
    "manifest_df.head()"
   ]
  },
  {
   "cell_type": "markdown",
   "metadata": {},
   "source": [
    "### Demographic data"
   ]
  },
  {
   "cell_type": "code",
   "execution_count": 5,
   "metadata": {},
   "outputs": [
    {
     "name": "stdout",
     "output_type": "stream",
     "text": [
      "n_participants: 132\n",
      "group counts:          participant_id  visit  age  sex\n",
      "group                                   \n",
      "PD                   67     67   60   60\n",
      "control              65     65   65   65\n"
     ]
    },
    {
     "data": {
      "text/html": [
       "<div>\n",
       "<style scoped>\n",
       "    .dataframe tbody tr th:only-of-type {\n",
       "        vertical-align: middle;\n",
       "    }\n",
       "\n",
       "    .dataframe tbody tr th {\n",
       "        vertical-align: top;\n",
       "    }\n",
       "\n",
       "    .dataframe thead th {\n",
       "        text-align: right;\n",
       "    }\n",
       "</style>\n",
       "<table border=\"1\" class=\"dataframe\">\n",
       "  <thead>\n",
       "    <tr style=\"text-align: right;\">\n",
       "      <th></th>\n",
       "      <th>participant_id</th>\n",
       "      <th>visit</th>\n",
       "      <th>group</th>\n",
       "      <th>age</th>\n",
       "      <th>sex</th>\n",
       "    </tr>\n",
       "  </thead>\n",
       "  <tbody>\n",
       "    <tr>\n",
       "      <th>0</th>\n",
       "      <td>MPD_HC_T1_01</td>\n",
       "      <td>V01</td>\n",
       "      <td>control</td>\n",
       "      <td>50.0</td>\n",
       "      <td>M</td>\n",
       "    </tr>\n",
       "    <tr>\n",
       "      <th>1</th>\n",
       "      <td>MPD_HC_T1_02</td>\n",
       "      <td>V01</td>\n",
       "      <td>control</td>\n",
       "      <td>40.0</td>\n",
       "      <td>F</td>\n",
       "    </tr>\n",
       "    <tr>\n",
       "      <th>2</th>\n",
       "      <td>MPD_HC_T1_03</td>\n",
       "      <td>V01</td>\n",
       "      <td>control</td>\n",
       "      <td>38.0</td>\n",
       "      <td>F</td>\n",
       "    </tr>\n",
       "    <tr>\n",
       "      <th>3</th>\n",
       "      <td>MPD_HC_T1_04</td>\n",
       "      <td>V01</td>\n",
       "      <td>control</td>\n",
       "      <td>60.0</td>\n",
       "      <td>M</td>\n",
       "    </tr>\n",
       "    <tr>\n",
       "      <th>4</th>\n",
       "      <td>MPD_HC_T1_05</td>\n",
       "      <td>V01</td>\n",
       "      <td>control</td>\n",
       "      <td>42.0</td>\n",
       "      <td>F</td>\n",
       "    </tr>\n",
       "  </tbody>\n",
       "</table>\n",
       "</div>"
      ],
      "text/plain": [
       "  participant_id visit    group   age sex\n",
       "0   MPD_HC_T1_01   V01  control  50.0   M\n",
       "1   MPD_HC_T1_02   V01  control  40.0   F\n",
       "2   MPD_HC_T1_03   V01  control  38.0   F\n",
       "3   MPD_HC_T1_04   V01  control  60.0   M\n",
       "4   MPD_HC_T1_05   V01  control  42.0   F"
      ]
     },
     "execution_count": 5,
     "metadata": {},
     "output_type": "execute_result"
    }
   ],
   "source": [
    "demographics_df = pd.read_csv(demographics_csv)\n",
    "participants = demographics_df[\"participant_id\"].unique()\n",
    "n_participants = len(participants)\n",
    "print(f\"n_participants: {n_participants}\")\n",
    "group_counts = demographics_df.groupby([\"group\"]).count()\n",
    "print(f\"group counts: {group_counts}\")\n",
    "demographics_df.head()"
   ]
  },
  {
   "cell_type": "markdown",
   "metadata": {},
   "source": [
    "### Merge demographics and manifest"
   ]
  },
  {
   "cell_type": "code",
   "execution_count": 6,
   "metadata": {},
   "outputs": [
    {
     "data": {
      "text/html": [
       "<div>\n",
       "<style scoped>\n",
       "    .dataframe tbody tr th:only-of-type {\n",
       "        vertical-align: middle;\n",
       "    }\n",
       "\n",
       "    .dataframe tbody tr th {\n",
       "        vertical-align: top;\n",
       "    }\n",
       "\n",
       "    .dataframe thead th {\n",
       "        text-align: right;\n",
       "    }\n",
       "</style>\n",
       "<table border=\"1\" class=\"dataframe\">\n",
       "  <thead>\n",
       "    <tr style=\"text-align: right;\">\n",
       "      <th></th>\n",
       "      <th>participant_id</th>\n",
       "      <th>visit</th>\n",
       "      <th>group</th>\n",
       "      <th>age</th>\n",
       "      <th>sex</th>\n",
       "      <th>session</th>\n",
       "      <th>bids_id</th>\n",
       "    </tr>\n",
       "  </thead>\n",
       "  <tbody>\n",
       "    <tr>\n",
       "      <th>0</th>\n",
       "      <td>MPD_HC_T1_01</td>\n",
       "      <td>V01</td>\n",
       "      <td>control</td>\n",
       "      <td>50.0</td>\n",
       "      <td>M</td>\n",
       "      <td>ses-01</td>\n",
       "      <td>sub-METALHC001</td>\n",
       "    </tr>\n",
       "    <tr>\n",
       "      <th>1</th>\n",
       "      <td>MPD_HC_T1_02</td>\n",
       "      <td>V01</td>\n",
       "      <td>control</td>\n",
       "      <td>40.0</td>\n",
       "      <td>F</td>\n",
       "      <td>ses-01</td>\n",
       "      <td>sub-METALHC002</td>\n",
       "    </tr>\n",
       "    <tr>\n",
       "      <th>2</th>\n",
       "      <td>MPD_HC_T1_03</td>\n",
       "      <td>V01</td>\n",
       "      <td>control</td>\n",
       "      <td>38.0</td>\n",
       "      <td>F</td>\n",
       "      <td>ses-01</td>\n",
       "      <td>sub-METALHC003</td>\n",
       "    </tr>\n",
       "    <tr>\n",
       "      <th>3</th>\n",
       "      <td>MPD_HC_T1_04</td>\n",
       "      <td>V01</td>\n",
       "      <td>control</td>\n",
       "      <td>60.0</td>\n",
       "      <td>M</td>\n",
       "      <td>ses-01</td>\n",
       "      <td>sub-METALHC004</td>\n",
       "    </tr>\n",
       "    <tr>\n",
       "      <th>4</th>\n",
       "      <td>MPD_HC_T1_05</td>\n",
       "      <td>V01</td>\n",
       "      <td>control</td>\n",
       "      <td>42.0</td>\n",
       "      <td>F</td>\n",
       "      <td>ses-01</td>\n",
       "      <td>sub-METALHC005</td>\n",
       "    </tr>\n",
       "  </tbody>\n",
       "</table>\n",
       "</div>"
      ],
      "text/plain": [
       "  participant_id visit    group   age sex session         bids_id\n",
       "0   MPD_HC_T1_01   V01  control  50.0   M  ses-01  sub-METALHC001\n",
       "1   MPD_HC_T1_02   V01  control  40.0   F  ses-01  sub-METALHC002\n",
       "2   MPD_HC_T1_03   V01  control  38.0   F  ses-01  sub-METALHC003\n",
       "3   MPD_HC_T1_04   V01  control  60.0   M  ses-01  sub-METALHC004\n",
       "4   MPD_HC_T1_05   V01  control  42.0   F  ses-01  sub-METALHC005"
      ]
     },
     "execution_count": 6,
     "metadata": {},
     "output_type": "execute_result"
    }
   ],
   "source": [
    "demographics_df = pd.merge(demographics_df, manifest_df, on=[\"participant_id\", \"visit\"])\n",
    "\n",
    "#---------------------------------------------\n",
    "## METAL specific\n",
    "id_mapping_df = pd.read_csv(id_mapping_csv)\n",
    "demographics_df = pd.merge(demographics_df, id_mapping_df[[\"participant_id\",\"bids_id\"]], on=[\"participant_id\"])\n",
    "#---------------------------------------------\n",
    "\n",
    "demographics_df.head()"
   ]
  },
  {
   "cell_type": "markdown",
   "metadata": {},
   "source": [
    "### Filter demographics based on available BIDS data"
   ]
  },
  {
   "cell_type": "code",
   "execution_count": 7,
   "metadata": {},
   "outputs": [
    {
     "ename": "NameError",
     "evalue": "name 'bids_ids' is not defined",
     "output_type": "error",
     "traceback": [
      "\u001b[0;31m---------------------------------------------------------------------------\u001b[0m",
      "\u001b[0;31mNameError\u001b[0m                                 Traceback (most recent call last)",
      "Cell \u001b[0;32mIn[7], line 1\u001b[0m\n\u001b[0;32m----> 1\u001b[0m demographics_df \u001b[39m=\u001b[39m demographics_df[demographics_df[\u001b[39m\"\u001b[39m\u001b[39mbids_id\u001b[39m\u001b[39m\"\u001b[39m]\u001b[39m.\u001b[39misin(bids_ids)]\n\u001b[1;32m      2\u001b[0m demographics_df\u001b[39m.\u001b[39mhead()\n",
      "\u001b[0;31mNameError\u001b[0m: name 'bids_ids' is not defined"
     ]
    }
   ],
   "source": [
    "bids_ids = demographics_df[\"bids_id\"].unique()\n",
    "demographics_df = demographics_df[demographics_df[\"bids_id\"].isin(bids_ids)]\n",
    "demographics_df.head()"
   ]
  },
  {
   "cell_type": "markdown",
   "metadata": {},
   "source": [
    "### Read DKT data"
   ]
  },
  {
   "cell_type": "code",
   "execution_count": null,
   "metadata": {},
   "outputs": [],
   "source": [
    "DKT_ROIs = ['caudalanteriorcingulate', 'caudalmiddlefrontal','cuneus', 'entorhinal', 'fusiform', 'inferiorparietal',\n",
    "       'inferiortemporal', 'isthmuscingulate', 'lateraloccipital','lateralorbitofrontal', 'lingual', 'medialorbitofrontal',\n",
    "       'middletemporal', 'parahippocampal', 'paracentral', 'parsopercularis', 'parsorbitalis', 'parstriangularis',\n",
    "       'pericalcarine', 'postcentral', 'posteriorcingulate', 'precentral', 'precuneus', 'rostralanteriorcingulate',\n",
    "       'rostralmiddlefrontal', 'superiorfrontal', 'superiorparietal', 'superiortemporal', 'supramarginal', 'transversetemporal',\n",
    "       'insula']\n",
    "\n",
    "lh_DKT_ROIs_dict = dict(zip(list(\"lh.\" + pd.Series(DKT_ROIs)), DKT_ROIs))\n",
    "rh_DKT_ROIs_dict = dict(zip(list(\"rh.\" + pd.Series(DKT_ROIs)), DKT_ROIs))"
   ]
  },
  {
   "cell_type": "code",
   "execution_count": null,
   "metadata": {},
   "outputs": [],
   "source": [
    "CT_DKT_df = pd.read_csv(DKT_csv)\n",
    "CT_DKT_df = CT_DKT_df.rename(columns={\"participant_id\":\"bids_id\"})\n",
    "\n",
    "bids_ids = CT_DKT_df[\"bids_id\"].unique()\n",
    "print(f\"n_bids: {len(bids_ids)}\")\n",
    "\n",
    "# Merge with demographics\n",
    "CT_DKT_df = pd.merge(CT_DKT_df,demographics_df,on=\"bids_id\",how=\"left\")\n",
    "CT_DKT_df.head()"
   ]
  },
  {
   "cell_type": "markdown",
   "metadata": {},
   "source": [
    "### Split DKT data into left and right hemisphere"
   ]
  },
  {
   "cell_type": "code",
   "execution_count": null,
   "metadata": {},
   "outputs": [],
   "source": [
    "save_results = False\n",
    "\n",
    "demo_cols = [\"participant_id\",\"bids_id\", \"age\",\"sex\",\"group\"]\n",
    "\n",
    "lh_CT_DKT_df = CT_DKT_df[demo_cols + list(lh_DKT_ROIs_dict.keys())].copy()\n",
    "rh_CT_DKT_df = CT_DKT_df[demo_cols + list(rh_DKT_ROIs_dict.keys())].copy()\n",
    "\n",
    "lh_CT_DKT_df = lh_CT_DKT_df.rename(columns=lh_DKT_ROIs_dict)\n",
    "lh_CT_DKT_df[\"hemi\"] = \"lh\"\n",
    "rh_CT_DKT_df = rh_CT_DKT_df.rename(columns=rh_DKT_ROIs_dict)\n",
    "rh_CT_DKT_df[\"hemi\"] = \"rh\"\n",
    "\n",
    "CT_DKT_df = pd.concat([lh_CT_DKT_df,rh_CT_DKT_df], axis=0)\n",
    "\n",
    "if save_results:\n",
    "    CT_DKT_df.to_csv(f\"{results_dir}/CT_DKT_df.csv\")\n",
    "\n",
    "CT_DKT_df.head()"
   ]
  },
  {
   "cell_type": "markdown",
   "metadata": {},
   "source": [
    "### Plot DKT"
   ]
  },
  {
   "cell_type": "code",
   "execution_count": null,
   "metadata": {},
   "outputs": [],
   "source": [
    "save_fig = False\n",
    "\n",
    "CT_DKT_df_melt = CT_DKT_df.melt(\n",
    "    id_vars=demo_cols + [\"hemi\"],\n",
    "    var_name=\"ROI\", \n",
    "    value_name=\"CT\")\n",
    "\n",
    "plot_df = CT_DKT_df_melt.copy()\n",
    "plot_df[\"ROI\"] = plot_df[\"ROI\"].astype(str)\n",
    "\n",
    "sns.set(font_scale=3)\n",
    "plot_kind = \"box\" # \"violin\", \"boxen\", \"point\", \"bar\", or “strip”\n",
    "with sns.axes_style(\"whitegrid\"):\n",
    "    g = sns.catplot(y=\"ROI\",x=\"CT\", hue=\"group\", col=\"hemi\",kind=plot_kind,palette=palette, data=plot_df, aspect=0.5, height=20)\n",
    "    # g.tick_params(axis='x', rotation=90, labelsize=14)\n",
    "\n",
    "if save_fig:\n",
    "    g.savefig(f\"{figs_dir}/DKT.png\")"
   ]
  },
  {
   "cell_type": "markdown",
   "metadata": {},
   "source": [
    "### Volumetric measures"
   ]
  },
  {
   "cell_type": "code",
   "execution_count": null,
   "metadata": {},
   "outputs": [],
   "source": [
    "vol_ASEG_df = pd.read_csv(ASEG_csv)\n",
    "vol_ASEG_df = vol_ASEG_df.rename(columns={\"participant_id\":\"bids_id\"})\n",
    "\n",
    "bids_ids = list(vol_ASEG_df[\"bids_id\"])\n",
    "print(f\"n_bids: {len(bids_ids)}\")\n",
    "\n",
    "# Merge with demographics info\n",
    "vol_ASEG_df = pd.merge(vol_ASEG_df,demographics_df,on=\"bids_id\",how=\"left\")\n",
    "\n",
    "vol_ASEG_df.head()"
   ]
  },
  {
   "cell_type": "code",
   "execution_count": null,
   "metadata": {},
   "outputs": [],
   "source": [
    "aseg_cols = list(vol_ASEG_df.columns)\n",
    "\n",
    "lh_aseg_ROIs_cols = [col for col in aseg_cols if \"Left\" in col]\n",
    "rh_aseg_ROIs_cols = [col for col in aseg_cols if \"Right\" in col]\n",
    "\n",
    "aseg_hemi_ROIs = [col.split(\"-\",1)[1] for col in lh_aseg_ROIs_cols]\n",
    "\n",
    "aseg_global_ROIs = list(set(aseg_cols) - set(lh_aseg_ROIs_cols) - set(rh_aseg_ROIs_cols) - set(demo_cols))\n",
    "\n",
    "lh_aseg_ROIs_dict = dict(zip(lh_aseg_ROIs_cols, aseg_hemi_ROIs))\n",
    "rh_aseg_ROIs_dict = dict(zip(rh_aseg_ROIs_cols, aseg_hemi_ROIs))"
   ]
  },
  {
   "cell_type": "markdown",
   "metadata": {},
   "source": [
    "### Split ASEG data into left and right hemisphere"
   ]
  },
  {
   "cell_type": "code",
   "execution_count": null,
   "metadata": {},
   "outputs": [],
   "source": [
    "save_results = False\n",
    "\n",
    "lh_vol_ASEG_df = vol_ASEG_df[demo_cols + list(lh_aseg_ROIs_dict.keys())].copy()\n",
    "lh_vol_ASEG_df[\"hemi\"] = \"lh\"\n",
    "rh_vol_ASEG_df = vol_ASEG_df[demo_cols + list(rh_aseg_ROIs_dict.keys())].copy()\n",
    "rh_vol_ASEG_df[\"hemi\"] = \"rh\"\n",
    "global_vol_ASEG_df = vol_ASEG_df[aseg_global_ROIs + demo_cols].copy()\n",
    "global_vol_ASEG_df[\"hemi\"] = \"global\"\n",
    "\n",
    "lh_vol_ASEG_df = lh_vol_ASEG_df.rename(columns=lh_aseg_ROIs_dict)\n",
    "rh_vol_ASEG_df = rh_vol_ASEG_df.rename(columns=rh_aseg_ROIs_dict)\n",
    "\n",
    "bilateral_vol_ASEG_df = pd.concat([lh_vol_ASEG_df,rh_vol_ASEG_df], axis=0)\n",
    "\n",
    "if save_results:\n",
    "    bilateral_vol_ASEG_df.to_csv(f\"{results_dir}/bilateral_vol_ASEG_df.csv\")\n",
    "    global_vol_ASEG_df.to_csv(f\"{results_dir}/global_vol_ASEG_df.csv\")\n",
    "\n",
    "bilateral_vol_ASEG_df.head()"
   ]
  },
  {
   "cell_type": "markdown",
   "metadata": {},
   "source": [
    "### Plot ASEG\n",
    "- hemi \n",
    "- global"
   ]
  },
  {
   "cell_type": "code",
   "execution_count": null,
   "metadata": {},
   "outputs": [],
   "source": [
    "save_fig = False\n",
    "\n",
    "vol_ASEG_df_melt = bilateral_vol_ASEG_df.melt(\n",
    "    id_vars=demo_cols + [\"hemi\"],\n",
    "    var_name=\"ROI\", \n",
    "    value_name=\"volume\",\n",
    ")\n",
    "\n",
    "plot_df = vol_ASEG_df_melt.copy()\n",
    "plot_df[\"ROI\"] = plot_df[\"ROI\"].astype(str)\n",
    "hemi_roi_list = ['Pallidum', 'Thalamus-Proper', 'Putamen',  'Amygdala', 'Caudate', 'Hippocampus', 'Accumbens-area', \n",
    "                'Cerebellum-Cortex','Cerebellum-White-Matter','VentralDC', 'Lateral-Ventricle','Inf-Lat-Vent']\n",
    "\n",
    "sns.set(font_scale=4)\n",
    "plot_kind = \"box\" # \"violin\", \"boxen\", \"point\", \"bar\", or “strip”\n",
    "with sns.axes_style(\"whitegrid\"):\n",
    "    g = sns.catplot(y=\"volume\",x=\"hemi\", hue=\"group\", col=\"ROI\", kind=plot_kind, col_wrap=6, col_order=hemi_roi_list,\n",
    "    palette=palette, data=plot_df, aspect=1, height=10, sharey=False)\n",
    "    # g.tick_params(axis='x', rotation=90, labelsize=14)\n",
    "\n",
    "if save_fig:\n",
    "    g.savefig(f\"{figs_dir}/ASEG_hemi.png\")"
   ]
  },
  {
   "cell_type": "code",
   "execution_count": null,
   "metadata": {},
   "outputs": [],
   "source": [
    "save_fig = False\n",
    "\n",
    "global_vol_ASEG_df = global_vol_ASEG_df.rename(columns={\"EstimatedTotalIntraCranialVol\":\"eTIV\"})\n",
    "global_vol_ASEG_df_melt = global_vol_ASEG_df.melt(\n",
    "    id_vars=demo_cols + [\"hemi\"],\n",
    "    var_name=\"ROI\", \n",
    "    value_name=\"volume\",\n",
    ")\n",
    "\n",
    "plot_df = global_vol_ASEG_df_melt.copy()\n",
    "\n",
    "global_roi_list = [\"eTIV\", \"SupraTentorial\", \"TotalGray\", \"SubCortGray\", \n",
    "                    \"CSF\",\"Brain-Stem\",\"3rd-Ventricle\",\"4th-Ventricle\"]\n",
    "plot_df = plot_df[plot_df[\"ROI\"].isin(global_roi_list)]\n",
    "\n",
    "sns.set(font_scale=4)\n",
    "plot_kind = \"box\" # \"violin\", \"boxen\", \"point\", \"bar\", or “strip”\n",
    "with sns.axes_style(\"whitegrid\"):\n",
    "    g = sns.catplot(y=\"volume\",x=\"hemi\", hue=\"group\", col=\"ROI\", kind=plot_kind, col_wrap=4, col_order=global_roi_list,\n",
    "    palette=palette, data=plot_df, aspect=1, height=10, sharey=False)\n",
    "\n",
    "if save_fig:\n",
    "    g.savefig(f\"{figs_dir}/ASEG_global.png\")"
   ]
  },
  {
   "cell_type": "code",
   "execution_count": null,
   "metadata": {},
   "outputs": [],
   "source": []
  }
 ],
 "metadata": {
  "interpreter": {
   "hash": "999c495fe9dc36b558f9181c52eb411f8d79bcfd8fb93141da57ede7d0ce5d9c"
  },
  "kernelspec": {
   "display_name": "Python 3.7.0 ('green_compute')",
   "language": "python",
   "name": "python3"
  },
  "language_info": {
   "codemirror_mode": {
    "name": "ipython",
    "version": 3
   },
   "file_extension": ".py",
   "mimetype": "text/x-python",
   "name": "python",
   "nbconvert_exporter": "python",
   "pygments_lexer": "ipython3",
   "version": "3.10.12"
  },
  "orig_nbformat": 4
 },
 "nbformat": 4,
 "nbformat_minor": 2
}
