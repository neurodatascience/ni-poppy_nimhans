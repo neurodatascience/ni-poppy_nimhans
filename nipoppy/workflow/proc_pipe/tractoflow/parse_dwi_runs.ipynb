{
 "cells": [
  {
   "cell_type": "markdown",
   "metadata": {},
   "source": [
    "### Notebook to parse available run and baval files for each particiant"
   ]
  },
  {
   "cell_type": "code",
   "execution_count": null,
   "metadata": {},
   "outputs": [],
   "source": [
    "import pandas as pd\n",
    "from bids import BIDSLayout\n",
    "import seaborn as sns\n",
    "import numpy as np\n",
    "import json\n",
    "import shutil"
   ]
  },
  {
   "cell_type": "markdown",
   "metadata": {},
   "source": [
    "### Path"
   ]
  },
  {
   "cell_type": "code",
   "execution_count": null,
   "metadata": {},
   "outputs": [],
   "source": [
    "dataset_root = \"/home/md_lab/projects/ylopd/data/ylopd/\"\n",
    "bids_dir = f\"{dataset_root}bids/\"\n",
    "proc_dir = f\"{dataset_root}proc/bids_filter_tractoflow/\""
   ]
  },
  {
   "cell_type": "markdown",
   "metadata": {},
   "source": [
    "### Create layout"
   ]
  },
  {
   "cell_type": "code",
   "execution_count": null,
   "metadata": {},
   "outputs": [],
   "source": [
    "layout = BIDSLayout(bids_dir)\n",
    "participants = layout.get_subjects()\n",
    "sessions = layout.get_sessions()\n",
    "\n",
    "print(f\"n_participants: {len(participants)}, sessions: {sessions}\")"
   ]
  },
  {
   "cell_type": "markdown",
   "metadata": {},
   "source": [
    "### Typical bids_filter used as template with participant specific run_id"
   ]
  },
  {
   "cell_type": "code",
   "execution_count": null,
   "metadata": {},
   "outputs": [],
   "source": [
    "bids_filter_template = {\n",
    "                            \"t1w\": {\n",
    "                                \"datatype\": \"anat\",\n",
    "                                \"session\": \"01\",\n",
    "                                \"run\": \"1\",\n",
    "                                \"suffix\": \"T1w\"\n",
    "                            },\n",
    "                            \"dwi\": {\n",
    "                                \"session\": \"01\",                                                          \n",
    "                                \"suffix\": \"dwi\"\n",
    "                            }\n",
    "}\n",
    "\n",
    "def get_bvals(bval_file):\n",
    "    bval_d = bval_file.dirname\n",
    "    bval_f = bval_file.filename\n",
    "    bval_path = f\"{bval_d}/{bval_f}\"\n",
    "    bvals_str = pd.read_csv(bval_path,header=None)\n",
    "    bval_num = [int(b) for b in bvals_str.values[0][0].split(\" \")]\n",
    "    return bval_f, bvals_str, bval_num "
   ]
  },
  {
   "cell_type": "markdown",
   "metadata": {},
   "source": [
    "### Query available bvals per participant and write bids_filter with highest number of bval"
   ]
  },
  {
   "cell_type": "code",
   "execution_count": null,
   "metadata": {},
   "outputs": [],
   "source": [
    "dwi_bval_df = pd.DataFrame(columns=[\"participant_id\",\"session\",\"filename\",\"bvals\", \"max_bval\"])\n",
    "dwi_file_count_df = pd.DataFrame(columns=[\"participant_id\",\"session\",\"n_dwi\",\"n_bval\",\"n_bvec\",\"run_id_to_use\",\"run_filename_to_use\"])\n",
    "\n",
    "i = 0\n",
    "for p in participants:\n",
    "    for s in sessions: \n",
    "        # query participant files\n",
    "        dwi_files = layout.get(subject=p, session=s, suffix=\"dwi\", extension='nii.gz')\n",
    "        bval_files = layout.get(subject=p, session=s, suffix=\"dwi\", extension='bval')\n",
    "        bvec_files = layout.get(subject=p, session=s, suffix=\"dwi\", extension='bvec')\n",
    "    \n",
    "        if len(dwi_files) > 0:\n",
    "            # identify run with the max bvals\n",
    "            _df = pd.DataFrame(columns=[\"participant_id\", \"session\", \"filename\", \"dir\", \"bvals\", \"max_bval\"])\n",
    "            for b, bval_file in enumerate(bval_files):\n",
    "                if \"dir-AP\" in bval_file.filename:\n",
    "                    bval_dir = \"AP\"\n",
    "                else:\n",
    "                    bval_dir = \"PA\"                    \n",
    "\n",
    "                bval_f, bvals_str, bval_num = get_bvals(bval_file)\n",
    "                max_bval = np.max(bval_num)\n",
    "                _df.loc[b] = [p, s, bval_f, bval_dir, bvals_str, max_bval]\n",
    "            \n",
    "            AP_df = _df[_df[\"dir\"] == \"AP\"]\n",
    "            max_bval_across_runs = AP_df[\"max_bval\"].max()\n",
    "            AP_df_max_bval_across_run = AP_df[AP_df[\"max_bval\"] == max_bval_across_runs]\n",
    "\n",
    "            file_with_max_bval = AP_df_max_bval_across_run.sort_values(\"filename\",ascending=True)[\"filename\"].values[0]\n",
    "            max_run_id = file_with_max_bval.rsplit(\"_\",2)[1].split(\"-\")[1]\n",
    "\n",
    "            # Append participant specific counts\n",
    "            dwi_file_count_df.loc[i] = [p, s, len(dwi_files), len(bval_files), len(bvec_files), max_run_id, file_with_max_bval]        \n",
    "            \n",
    "            # Append participant and run specific info\n",
    "            dwi_bval_df = pd.concat([dwi_bval_df,_df])\n",
    "\n",
    "            # Copy PA file to match AP file's run_id\n",
    "            if max_run_id != \"1\":\n",
    "                print(f\"For sub-{p}_ses-{s} making a copy to PA dwi, bval, and bvecs to match selected AP run_id: {max_run_id}\")\n",
    "                bval_d = bval_file.dirname\n",
    "                for suffix in [\"bval\",\"bvec\",\"json\",\"nii.gz\"]:\n",
    "                    bval_f_orig = f\"sub-{p}_ses-{s}_dir-PA_run-1_dwi.{suffix}\"\n",
    "                    orig_PA_path = f\"{bval_d}/{bval_f_orig}\"\n",
    "                    bval_f_copy = f\"sub-{p}_ses-{s}_dir-PA_run-{max_run_id}_dwi.{suffix}\"\n",
    "                    copy_PA_path = f\"{bval_d}/{bval_f_copy}\"\n",
    "                    shutil.copyfile(orig_PA_path, copy_PA_path)\n",
    "\n",
    "            # Write custom_bids_filter\n",
    "            bids_filter_template[\"dwi\"][\"run\"] = str(max_run_id)\n",
    "            bids_filter_path = f\"{proc_dir}/{p}_{s}_bids_filter.json\"\n",
    "            with open(bids_filter_path, \"w\") as outfile:\n",
    "                json.dump(bids_filter_template, outfile, indent = 4)\n",
    "\n",
    "            i+=1\n",
    "\n",
    "        else:\n",
    "            print(f\"No DWI files found for {p}, ses-{s}\")\n",
    "dwi_file_count_df.head()"
   ]
  },
  {
   "cell_type": "code",
   "execution_count": null,
   "metadata": {},
   "outputs": [],
   "source": [
    "dwi_file_count_df.tail()"
   ]
  },
  {
   "cell_type": "code",
   "execution_count": null,
   "metadata": {},
   "outputs": [],
   "source": [
    "dwi_bval_df[dwi_bval_df[\"participant_id\"]==\"YLOPD100\"]"
   ]
  },
  {
   "cell_type": "code",
   "execution_count": null,
   "metadata": {},
   "outputs": [],
   "source": [
    "plot_df = dwi_file_count_df.melt(\n",
    "    id_vars=[\"participant_id\",\"session\",\"run_id_to_use\",\"run_filename_to_use\"],\n",
    "    var_name=\"filetype\", \n",
    "    value_name=\"count\")\n",
    "\n",
    "sns.set(font_scale=2)\n",
    "plot_kind = \"point\" # \"violin\", \"boxen\", \"point\", \"bar\", or “strip”\n",
    "with sns.axes_style(\"whitegrid\"):\n",
    "    g = sns.catplot(x=\"participant_id\", y=\"count\", hue=\"filetype\", kind=\"point\", data=plot_df, aspect=6)\n",
    "    g.tick_params(axis='x', rotation=90, labelsize=6)\n",
    "\n"
   ]
  },
  {
   "cell_type": "code",
   "execution_count": null,
   "metadata": {},
   "outputs": [],
   "source": [
    "dwi_file_count_df.groupby([\"n_dwi\"]).count()"
   ]
  },
  {
   "cell_type": "code",
   "execution_count": null,
   "metadata": {},
   "outputs": [],
   "source": [
    "dwi_file_count_df[dwi_file_count_df[\"n_bval\"]==9]"
   ]
  },
  {
   "cell_type": "markdown",
   "metadata": {},
   "source": []
  }
 ],
 "metadata": {
  "kernelspec": {
   "display_name": "nipoppy_env",
   "language": "python",
   "name": "python3"
  },
  "language_info": {
   "codemirror_mode": {
    "name": "ipython",
    "version": 3
   },
   "file_extension": ".py",
   "mimetype": "text/x-python",
   "name": "python",
   "nbconvert_exporter": "python",
   "pygments_lexer": "ipython3",
   "version": "3.10.8"
  },
  "orig_nbformat": 4
 },
 "nbformat": 4,
 "nbformat_minor": 2
}
